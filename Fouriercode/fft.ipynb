{
 "cells": [
  {
   "cell_type": "markdown",
   "metadata": {},
   "source": [
    "##FFT ALFORITHm"
   ]
  },
  {
   "cell_type": "code",
   "execution_count": null,
   "metadata": {},
   "outputs": [],
   "source": [
    "import cmath"
   ]
  },
  {
   "cell_type": "code",
   "execution_count": 5,
   "metadata": {},
   "outputs": [
    {
     "ename": "NameError",
     "evalue": "name 'cmath' is not defined",
     "output_type": "error",
     "traceback": [
      "\u001b[0;31m---------------------------------------------------------------------------\u001b[0m",
      "\u001b[0;31mNameError\u001b[0m                                 Traceback (most recent call last)",
      "Cell \u001b[0;32mIn[5], line 22\u001b[0m\n\u001b[1;32m     17\u001b[0m             \u001b[38;5;28;01mreturn\u001b[39;00m\n\u001b[1;32m     19\u001b[0m         getTwiddles(level, even, odd)\n\u001b[0;32m---> 22\u001b[0m \u001b[43mgetTwiddles\u001b[49m\u001b[43m(\u001b[49m\u001b[43mLEVEL\u001b[49m\u001b[43m,\u001b[49m\u001b[43msignal\u001b[49m\u001b[43m)\u001b[49m   \n\u001b[1;32m     23\u001b[0m \u001b[38;5;28mprint\u001b[39m(twiddles)\n",
      "Cell \u001b[0;32mIn[5], line 15\u001b[0m, in \u001b[0;36mgetTwiddles\u001b[0;34m(level, *args)\u001b[0m\n\u001b[1;32m     13\u001b[0m level \u001b[38;5;241m+\u001b[39m\u001b[38;5;241m=\u001b[39m \u001b[38;5;241m1\u001b[39m\n\u001b[1;32m     14\u001b[0m \u001b[38;5;28;01mfor\u001b[39;00m sample \u001b[38;5;129;01min\u001b[39;00m odd: \n\u001b[0;32m---> 15\u001b[0m     twiddles[sample] \u001b[38;5;241m*\u001b[39m\u001b[38;5;241m=\u001b[39m \u001b[43mcmath\u001b[49m\u001b[38;5;241m.\u001b[39mexp((\u001b[38;5;241m-\u001b[39m\u001b[38;5;241m1\u001b[39mj \u001b[38;5;241m*\u001b[39m cmath\u001b[38;5;241m.\u001b[39mpi  \u001b[38;5;241m*\u001b[39m \u001b[38;5;241m2\u001b[39m \u001b[38;5;241m*\u001b[39m level)\u001b[38;5;241m/\u001b[39mN)\n\u001b[1;32m     16\u001b[0m \u001b[38;5;28;01mif\u001b[39;00m \u001b[38;5;28mlen\u001b[39m(even ) \u001b[38;5;241m==\u001b[39m \u001b[38;5;241m1\u001b[39m: \n\u001b[1;32m     17\u001b[0m     \u001b[38;5;28;01mreturn\u001b[39;00m\n",
      "\u001b[0;31mNameError\u001b[0m: name 'cmath' is not defined"
     ]
    }
   ],
   "source": [
    "LEVEL =0 \n",
    "twiddles = {}\n",
    "signal = [0,1,2,3,4,5,6,7]\n",
    "N = len(signal)\n",
    "#intialize \n",
    "for sample in signal: \n",
    "    twiddles[sample] = 1\n",
    "    \n",
    "def getTwiddles(level, *args): \n",
    "    for list in args: \n",
    "        even = list[::2]\n",
    "        odd = list[1::2]\n",
    "        level += 1\n",
    "        for sample in odd: \n",
    "            twiddles[sample] *= cmath.exp((-1j * cmath.pi  * 2 * level)/N)\n",
    "        if len(even ) == 1: \n",
    "            return\n",
    "        \n",
    "        getTwiddles(level, even, odd)\n",
    "        \n",
    "\n",
    "getTwiddles(LEVEL,signal)   \n",
    "print(twiddles)\n",
    "    "
   ]
  }
 ],
 "metadata": {
  "kernelspec": {
   "display_name": "Python 3",
   "language": "python",
   "name": "python3"
  },
  "language_info": {
   "codemirror_mode": {
    "name": "ipython",
    "version": 3
   },
   "file_extension": ".py",
   "mimetype": "text/x-python",
   "name": "python",
   "nbconvert_exporter": "python",
   "pygments_lexer": "ipython3",
   "version": "3.9.6"
  }
 },
 "nbformat": 4,
 "nbformat_minor": 2
}
