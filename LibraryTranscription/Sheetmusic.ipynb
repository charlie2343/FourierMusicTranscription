{
 "cells": [
  {
   "cell_type": "code",
   "execution_count": 1,
   "metadata": {},
   "outputs": [
    {
     "name": "stderr",
     "output_type": "stream",
     "text": [
      "/Users/macbook/Library/Python/3.9/lib/python/site-packages/urllib3/__init__.py:35: NotOpenSSLWarning: urllib3 v2 only supports OpenSSL 1.1.1+, currently the 'ssl' module is compiled with 'LibreSSL 2.8.3'. See: https://github.com/urllib3/urllib3/issues/3020\n",
      "  warnings.warn(\n"
     ]
    }
   ],
   "source": [
    "import numpy as np\n",
    "import matplotlib.pyplot as plt\n",
    "from scipy.io.wavfile import read\n",
    "from scipy.signal import stft, get_window\n",
    "import math\n",
    "\n",
    "from music21 import *\n",
    "import os"
   ]
  },
  {
   "cell_type": "code",
   "execution_count": 5,
   "metadata": {},
   "outputs": [
    {
     "name": "stdout",
     "output_type": "stream",
     "text": [
      "16.0\n",
      "sample count: 4000\n",
      "Window type:  <class 'numpy.ndarray'>  Window values:  [0.00049975 0.0009995  0.00149925 ... 0.001999   0.00149925 0.0009995 ]\n"
     ]
    }
   ],
   "source": [
    "BPM = 60\n",
    "oct4notes = { \n",
    "             \"D4\": 293,\n",
    "             \"E4\": 329,\n",
    "             \"C4\": 261,\n",
    "             \"G4\": 392\n",
    "             }\n",
    "\n",
    "SAMPLING_RATE, signal = read('/Users/macbook/Fourier/mhll.wav')\n",
    "\n",
    "\n",
    "# Convert BPM to approximate number of samples per beat\n",
    "time_interval = 0.0625\n",
    "#32nd note length\n",
    "sample_count = time_interval * SAMPLING_RATE\n",
    "resolution = 1/time_interval\n",
    "# Ensure window size is appropriate (e.g., capped at 512 samples)\n",
    "sample_count = 4000\n",
    "print(resolution)\n",
    "print(f\"sample count: {sample_count}\")\n",
    "window = get_window(\"triang\", sample_count)\n",
    "print(\"Window type: \", type(window), \" Window values: \", window)"
   ]
  },
  {
   "cell_type": "code",
   "execution_count": 6,
   "metadata": {},
   "outputs": [],
   "source": [
    "# Adjust STFT to scale frequency range to 0 - 1000 Hz\n",
    "def short_time_fourier_transform(signal, overlap=0.25):  # Get the window for the STFT\n",
    "    nperseg = len(window)\n",
    "    noverlap = int(overlap * nperseg)\n",
    "    f, t, Zxx = stft(signal, SAMPLING_RATE, window=window, nperseg=nperseg, noverlap=noverlap)\n",
    "    return f, t, Zxx"
   ]
  },
  {
   "cell_type": "code",
   "execution_count": null,
   "metadata": {},
   "outputs": [],
   "source": [
    "def getnotes():\n",
    "    tolerance = 1.0  # Tolerance for frequency persistence in Hz\n",
    "    frequency = 0\n",
    "    count = 0\n",
    "    \n",
    "    for time_idx, time in enumerate(times):\n",
    "        if time_idx == 0 or time_idx == len(times) - 1:\n",
    "            continue\n",
    "        \n",
    "        #loop through timeindex and next time index and get all the amplitudes\n",
    "        time_amplitudes_cur = amplitudes[:, time_idx]\n",
    "        time_amplitudes_nxt = amplitudes[:, time_idx + 1]\n",
    "        #get top two significant frequencies indicies\n",
    "        top_indices_cur = np.argsort(time_amplitudes_cur)[-2:] \n",
    "        top_indices_nxt = np.argsort(time_amplitudes_nxt)[-2:]\n",
    "        \n",
    "        \n",
    "\n",
    "        # Compare top frequencies based on indices and apply tolerance\n",
    "        freq_cur = frequencies[top_indices_cur[1]]\n",
    "        amp_cur = time_amplitudes_cur[top_indices_cur[1]]\n",
    "        freq_nxt = frequencies[top_indices_nxt[1]]\n",
    "        # ! prints indicies of top two freqs\n",
    "        #print(f\"Top indices (current): {top_indices_cur}, Top indices (next): {top_indices_nxt}\")\n",
    "        #  ! prints frequencies of top two\n",
    "        #print(f\"\\n Frequencies (current): {frequencies[top_indices_cur]}, Frequencies (next): {frequencies[top_indices_nxt]}\")\n",
    "        # ! prints amplitud of top two\n",
    "        # print(f\"Amplitudes (current): {time_amplitudes_cur[top_indices_cur]}\"\n",
    "\n",
    "        # !prints the top four amplitudes\n",
    "        print(f\"Time: {time:.2f}s\")\n",
    "        top_indices = np.argsort(time_amplitudes_cur)[-4:]  # Get indices of top 4 amplitudes\n",
    "        for idx in reversed(top_indices):  # Reverse to show the largest first\n",
    "            print(f\"  Frequency: {frequencies[idx]:.2f} Hz, Amplitude: {time_amplitudes_cur[idx]:.2f}\")\n",
    "        \n",
    "        # ! if in consecutively in top 2 frequencies count increase\n",
    "        # ! If not, get duration of the frequency, compare it to closest note, and append to list  \n",
    "        #if freq_cur in frequencies[top_indices_nxt]:\n",
    "        if amp_cur< 210:\n",
    "            count +=1 \n",
    "            length = get_duration(count)\n",
    "            note = \"rest\"\n",
    "        else:\n",
    "            score.append((freq_cur,note,length,time))\n",
    "            count = 0    \n",
    "            if np.abs(freq_cur - freq_nxt) <= resolution:\n",
    "                if amp_cur > 100: \n",
    "                    count += 1\n",
    "            # ! detects when new note, or if same note repeated it splits by less amplitude frame\n",
    "            elif count != 0:\n",
    "                print(f\" \\n Frequency: {freq_cur:.2f} Hz gone, Amplitude: {amp_cur:.2f}, Count: {count}\")\n",
    "                length = get_duration(count)\n",
    "                note = comparenotes(freq_cur)\n",
    "                score.append((freq_cur,note,length,time))\n",
    "                count = 0\n",
    "            else: \n",
    "                pass"
   ]
  },
  {
   "cell_type": "markdown",
   "metadata": {},
   "source": [
    "# Show data"
   ]
  },
  {
   "cell_type": "code",
   "execution_count": null,
   "metadata": {},
   "outputs": [],
   "source": [
    "def Spectrogram(stft): \n",
    "    # Plot Frequency Spectrum (STFT Spectrogram) with Log Scaling\n",
    "    plt.figure(figsize=(10, 6))\n",
    "    plt.pcolormesh(times, frequencies, 10 * np.log10(np.abs(stft) + 1e-6), shading='gouraud', cmap='inferno')\n",
    "\n",
    "    tick_positions = np.linspace(times[0], times[-1], num=24)  # More ticks\n",
    "\n",
    "    plt.xticks(tick_positions, [f\"{tick:.1f}\" for tick in tick_positions])  # Custom labels\n",
    "    plt.title(f\"STFT Spectrogram, Sample count: {3000}, Precision: {3000/48000}ms\", fontsize = 20)\n",
    "    plt.xlabel(\"Time (s)\")\n",
    "    plt.ylabel(\"Frequency (Hz)\")\n",
    "    plt.colorbar(label=\"Amplitude (dB)\")\n",
    "    plt.grid()\n",
    "    plt.tight_layout()\n",
    "    plt.show()\n",
    "    \n",
    "def showSTFT(): \n",
    "    data = []\n",
    "    for time_idx, time in enumerate(times):\n",
    "        if time_idx == 0 or time_idx == len(times) - 1:\n",
    "            continue\n",
    "        \n",
    "        #loop through timeindex and next time index and get all the amplitudes\n",
    "        time_amplitudes_cur = amplitudes[:, time_idx]\n",
    "        #get top two significant frequencies indicies\n",
    "        top_indices_cur = np.argsort(time_amplitudes_cur)[-2:] \n",
    "        \n",
    "        \n",
    "\n",
    "        # Compare top frequencies based on indices and apply tolerance\n",
    "        freq_cur = frequencies[top_indices_cur[1]]\n",
    "        amp_cur = time_amplitudes_cur[top_indices_cur[1]]\n",
    "        data[time_idx].append(time, freq_cur, amp_cur)\n",
    "    \n",
    "    # plot\n",
    "    fig, ax = plt.subplots()\n",
    "    for time, freq, amp in data:\n",
    "        ax.scatter(time, freq, s=amp, c='blue', alpha=0.5)\n",
    "    ax.set(xlim=(0, 8), xticks=np.arange(1, 8),\n",
    "    ylim=(0, 8), yticks=np.arange(1, 8))\n",
    "    plt.show()"
   ]
  }
 ],
 "metadata": {
  "kernelspec": {
   "display_name": "Python 3",
   "language": "python",
   "name": "python3"
  },
  "language_info": {
   "codemirror_mode": {
    "name": "ipython",
    "version": 3
   },
   "file_extension": ".py",
   "mimetype": "text/x-python",
   "name": "python",
   "nbconvert_exporter": "python",
   "pygments_lexer": "ipython3",
   "version": "3.9.6"
  }
 },
 "nbformat": 4,
 "nbformat_minor": 2
}
