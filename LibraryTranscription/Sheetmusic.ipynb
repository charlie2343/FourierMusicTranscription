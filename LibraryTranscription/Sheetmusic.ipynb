{
 "cells": [
  {
   "cell_type": "code",
   "execution_count": 1,
   "metadata": {},
   "outputs": [
    {
     "name": "stderr",
     "output_type": "stream",
     "text": [
      "/Users/macbook/Library/Python/3.9/lib/python/site-packages/urllib3/__init__.py:35: NotOpenSSLWarning: urllib3 v2 only supports OpenSSL 1.1.1+, currently the 'ssl' module is compiled with 'LibreSSL 2.8.3'. See: https://github.com/urllib3/urllib3/issues/3020\n",
      "  warnings.warn(\n"
     ]
    }
   ],
   "source": [
    "import numpy as np\n",
    "import matplotlib.pyplot as plt\n",
    "from scipy.io.wavfile import read\n",
    "from scipy.signal import stft, get_window\n",
    "import math\n",
    "\n",
    "from music21 import *\n",
    "import os"
   ]
  },
  {
   "cell_type": "code",
   "execution_count": 4,
   "metadata": {},
   "outputs": [
    {
     "ename": "FileNotFoundError",
     "evalue": "[Errno 2] No such file or directory: '~/Fourier/mhll.wav'",
     "output_type": "error",
     "traceback": [
      "\u001b[0;31m---------------------------------------------------------------------------\u001b[0m",
      "\u001b[0;31mFileNotFoundError\u001b[0m                         Traceback (most recent call last)",
      "Cell \u001b[0;32mIn[4], line 13\u001b[0m\n\u001b[1;32m      9\u001b[0m score \u001b[38;5;241m=\u001b[39m []\n\u001b[1;32m     10\u001b[0m \u001b[38;5;66;03m# Load the WAV file\u001b[39;00m\n\u001b[0;32m---> 13\u001b[0m SAMPLING_RATE, signal \u001b[38;5;241m=\u001b[39m \u001b[43mread\u001b[49m\u001b[43m(\u001b[49m\u001b[38;5;124;43m'\u001b[39;49m\u001b[38;5;124;43m~/Fourier/mhll.wav\u001b[39;49m\u001b[38;5;124;43m'\u001b[39;49m\u001b[43m)\u001b[49m\n\u001b[1;32m     14\u001b[0m \u001b[38;5;66;03m# Convert to mono if stereo\u001b[39;00m\n\u001b[1;32m     15\u001b[0m \u001b[38;5;28;01mif\u001b[39;00m \u001b[38;5;28mlen\u001b[39m(signal\u001b[38;5;241m.\u001b[39mshape) \u001b[38;5;241m>\u001b[39m \u001b[38;5;241m1\u001b[39m:\n",
      "File \u001b[0;32m~/Library/Python/3.9/lib/python/site-packages/scipy/io/wavfile.py:647\u001b[0m, in \u001b[0;36mread\u001b[0;34m(filename, mmap)\u001b[0m\n\u001b[1;32m    645\u001b[0m     mmap \u001b[38;5;241m=\u001b[39m \u001b[38;5;28;01mFalse\u001b[39;00m\n\u001b[1;32m    646\u001b[0m \u001b[38;5;28;01melse\u001b[39;00m:\n\u001b[0;32m--> 647\u001b[0m     fid \u001b[38;5;241m=\u001b[39m \u001b[38;5;28;43mopen\u001b[39;49m\u001b[43m(\u001b[49m\u001b[43mfilename\u001b[49m\u001b[43m,\u001b[49m\u001b[43m \u001b[49m\u001b[38;5;124;43m'\u001b[39;49m\u001b[38;5;124;43mrb\u001b[39;49m\u001b[38;5;124;43m'\u001b[39;49m\u001b[43m)\u001b[49m\n\u001b[1;32m    649\u001b[0m \u001b[38;5;28;01mtry\u001b[39;00m:\n\u001b[1;32m    650\u001b[0m     file_size, is_big_endian \u001b[38;5;241m=\u001b[39m _read_riff_chunk(fid)\n",
      "\u001b[0;31mFileNotFoundError\u001b[0m: [Errno 2] No such file or directory: '~/Fourier/mhll.wav'"
     ]
    }
   ],
   "source": [
    "BPM = 60\n",
    "oct4notes = { \n",
    "             \"D4\": 293,\n",
    "             \"E4\": 329,\n",
    "             \"C4\": 261,\n",
    "             \"G4\": 392\n",
    "             }\n",
    "\n",
    "score = []\n",
    "# Load the WAV file\n",
    "\n",
    "\n",
    "SAMPLING_RATE, signal = read('~/Fourier/mhll.wav')\n",
    "# Convert to mono if stereo\n",
    "if len(signal.shape) > 1:\n",
    "    signal = signal.mean(axis=1)\n",
    "\n",
    "print(\"Sampling rate:\", SAMPLING_RATE)\n",
    "\n",
    "\n",
    "# Convert BPM to approximate number of samples per beat\n",
    "time_interval = 0.0625\n",
    "#32nd note length\n",
    "sample_count = time_interval * SAMPLING_RATE\n",
    "resolution = 1/time_interval\n",
    "# Ensure window size is appropriate (e.g., capped at 512 samples)\n",
    "sample_count = 4000\n",
    "print(resolution)\n",
    "print(f\"sample count: {sample_count}\")\n",
    "window = get_window(\"triang\", sample_count)\n",
    "print(\"Window type: \", type(window), \" Window values: \", window)"
   ]
  },
  {
   "cell_type": "code",
   "execution_count": null,
   "metadata": {},
   "outputs": [],
   "source": [
    "# Adjust STFT to scale frequency range to 0 - 1000 Hz\n",
    "def short_time_fourier_transform(signal, overlap=0.25):  # Get the window for the STFT\n",
    "    nperseg = len(window)\n",
    "    noverlap = int(overlap * nperseg)\n",
    "    f, t, Zxx = stft(signal, SAMPLING_RATE, window=window, nperseg=nperseg, noverlap=noverlap)\n",
    "    return f, t, Zxx"
   ]
  },
  {
   "cell_type": "code",
   "execution_count": null,
   "metadata": {},
   "outputs": [],
   "source": [
    "def getnotes():\n",
    "    tolerance = 1.0  # Tolerance for frequency persistence in Hz\n",
    "    frequency = 0\n",
    "    count = 0\n",
    "    \n",
    "    for time_idx, time in enumerate(times):\n",
    "        if time_idx == 0 or time_idx == len(times) - 1:\n",
    "            continue\n",
    "        \n",
    "        #loop through timeindex and next time index and get all the amplitudes\n",
    "        time_amplitudes_cur = amplitudes[:, time_idx]\n",
    "        time_amplitudes_nxt = amplitudes[:, time_idx + 1]\n",
    "        #get top two significant frequencies indicies\n",
    "        top_indices_cur = np.argsort(time_amplitudes_cur)[-2:] \n",
    "        top_indices_nxt = np.argsort(time_amplitudes_nxt)[-2:]\n",
    "        \n",
    "        \n",
    "\n",
    "        # Compare top frequencies based on indices and apply tolerance\n",
    "        freq_cur = frequencies[top_indices_cur[1]]\n",
    "        amp_cur = time_amplitudes_cur[top_indices_cur[1]]\n",
    "        freq_nxt = frequencies[top_indices_nxt[1]]\n",
    "        # ! prints indicies of top two freqs\n",
    "        #print(f\"Top indices (current): {top_indices_cur}, Top indices (next): {top_indices_nxt}\")\n",
    "        #  ! prints frequencies of top two\n",
    "        #print(f\"\\n Frequencies (current): {frequencies[top_indices_cur]}, Frequencies (next): {frequencies[top_indices_nxt]}\")\n",
    "        # ! prints amplitud of top two\n",
    "        # print(f\"Amplitudes (current): {time_amplitudes_cur[top_indices_cur]}\"\n",
    "\n",
    "        # !prints the top four amplitudes\n",
    "        print(f\"Time: {time:.2f}s\")\n",
    "        top_indices = np.argsort(time_amplitudes_cur)[-4:]  # Get indices of top 4 amplitudes\n",
    "        for idx in reversed(top_indices):  # Reverse to show the largest first\n",
    "            print(f\"  Frequency: {frequencies[idx]:.2f} Hz, Amplitude: {time_amplitudes_cur[idx]:.2f}\")\n",
    "        \n",
    "        # ! if in consecutively in top 2 frequencies count increase\n",
    "        # ! If not, get duration of the frequency, compare it to closest note, and append to list  \n",
    "        #if freq_cur in frequencies[top_indices_nxt]:\n",
    "        if amp_cur< 210:\n",
    "            count +=1 \n",
    "            length = get_duration(count)\n",
    "            note = \"rest\"\n",
    "        else:\n",
    "            score.append((freq_cur,note,length,time))\n",
    "            count = 0    \n",
    "            if np.abs(freq_cur - freq_nxt) <= resolution:\n",
    "                if amp_cur > 100: \n",
    "                    count += 1\n",
    "            # ! detects when new note, or if same note repeated it splits by less amplitude frame\n",
    "            elif count != 0:\n",
    "                print(f\" \\n Frequency: {freq_cur:.2f} Hz gone, Amplitude: {amp_cur:.2f}, Count: {count}\")\n",
    "                length = get_duration(count)\n",
    "                note = comparenotes(freq_cur)\n",
    "                score.append((freq_cur,note,length,time))\n",
    "                count = 0\n",
    "            else: \n",
    "                pass"
   ]
  }
 ],
 "metadata": {
  "kernelspec": {
   "display_name": "Python 3",
   "language": "python",
   "name": "python3"
  },
  "language_info": {
   "codemirror_mode": {
    "name": "ipython",
    "version": 3
   },
   "file_extension": ".py",
   "mimetype": "text/x-python",
   "name": "python",
   "nbconvert_exporter": "python",
   "pygments_lexer": "ipython3",
   "version": "3.9.6"
  }
 },
 "nbformat": 4,
 "nbformat_minor": 2
}
